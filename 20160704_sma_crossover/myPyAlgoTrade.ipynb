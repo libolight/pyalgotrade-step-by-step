{
 "cells": [
  {
   "cell_type": "code",
   "execution_count": 1,
   "metadata": {
    "collapsed": true
   },
   "outputs": [],
   "source": [
    "from pyalgotrade.tools import yahoofinance"
   ]
  },
  {
   "cell_type": "code",
   "execution_count": 2,
   "metadata": {
    "collapsed": true,
    "slideshow": {
     "slide_type": "-"
    }
   },
   "outputs": [],
   "source": [
    "# 耐心等待csv的出现...\n",
    "yahoofinance.download_daily_bars('tcehy', 2016, 'tcehy-2016.csv')"
   ]
  },
  {
   "cell_type": "code",
   "execution_count": 3,
   "metadata": {
    "collapsed": true
   },
   "outputs": [],
   "source": [
    "from pyalgotrade import strategy\n",
    "from pyalgotrade.barfeed import yahoofeed"
   ]
  },
  {
   "cell_type": "code",
   "execution_count": 4,
   "metadata": {
    "collapsed": true
   },
   "outputs": [],
   "source": [
    "# 简单输出close\n",
    "class MyStrategy(strategy.BacktestingStrategy):\n",
    "    def __init__(self, feed, instrument):\n",
    "        strategy.BacktestingStrategy.__init__(self, feed)\n",
    "        self.__instrument = instrument\n",
    "\n",
    "    def onBars(self, bars):\n",
    "        bar = bars[self.__instrument]\n",
    "        self.info(bar.getClose())"
   ]
  },
  {
   "cell_type": "code",
   "execution_count": 12,
   "metadata": {
    "collapsed": true
   },
   "outputs": [],
   "source": [
    "from pyalgotrade.technical import ma\n",
    "from pyalgotrade.technical import rsi\n",
    "\n",
    "class MyStrategy(strategy.BacktestingStrategy):\n",
    "    def __init__(self, feed, instrument):\n",
    "        strategy.BacktestingStrategy.__init__(self, feed)\n",
    "        self.__rsi = rsi.RSI(feed[instrument].getCloseDataSeries(), 14)\n",
    "        self.__sma = ma.SMA(self.__rsi, 15)\n",
    "        self.__instrument = instrument\n",
    "\n",
    "    def onBars(self, bars):\n",
    "        bar = bars[self.__instrument]\n",
    "        self.info(\"%s %s %s\" % (bar.getClose(), self.__rsi[-1], self.__sma[-1]))"
   ]
  },
  {
   "cell_type": "code",
   "execution_count": 13,
   "metadata": {
    "collapsed": false
   },
   "outputs": [
    {
     "name": "stderr",
     "output_type": "stream",
     "text": [
      "2016-01-04 00:00:00 strategy [INFO] 19.129999 None None\n",
      "2016-01-05 00:00:00 strategy [INFO] 19.08 None None\n",
      "2016-01-06 00:00:00 strategy [INFO] 18.66 None None\n",
      "2016-01-07 00:00:00 strategy [INFO] 17.91 None None\n",
      "2016-01-08 00:00:00 strategy [INFO] 17.969999 None None\n",
      "2016-01-11 00:00:00 strategy [INFO] 17.709999 None None\n",
      "2016-01-12 00:00:00 strategy [INFO] 17.75 None None\n",
      "2016-01-13 00:00:00 strategy [INFO] 17.24 None None\n",
      "2016-01-14 00:00:00 strategy [INFO] 17.59 None None\n",
      "2016-01-15 00:00:00 strategy [INFO] 17.09 None None\n",
      "2016-01-19 00:00:00 strategy [INFO] 17.709999 None None\n",
      "2016-01-20 00:00:00 strategy [INFO] 17.200001 None None\n",
      "2016-01-21 00:00:00 strategy [INFO] 17.32 None None\n",
      "2016-01-22 00:00:00 strategy [INFO] 18.120001 None None\n",
      "2016-01-25 00:00:00 strategy [INFO] 18.299999 41.9729113806 None\n",
      "2016-01-26 00:00:00 strategy [INFO] 18.540001 44.7357395039 None\n",
      "2016-01-27 00:00:00 strategy [INFO] 18.02 40.2627254955 None\n",
      "2016-01-28 00:00:00 strategy [INFO] 18.280001 43.3146380408 None\n",
      "2016-01-29 00:00:00 strategy [INFO] 18.74 48.3429565448 None\n",
      "2016-02-01 00:00:00 strategy [INFO] 18.780001 48.7685424255 None\n",
      "2016-02-02 00:00:00 strategy [INFO] 18.4 44.9775571019 None\n",
      "2016-02-03 00:00:00 strategy [INFO] 18.26 43.6318698686 None\n",
      "2016-02-04 00:00:00 strategy [INFO] 18.209999 43.135485274 None\n",
      "2016-02-05 00:00:00 strategy [INFO] 18.040001 41.4105405823 None\n",
      "2016-02-08 00:00:00 strategy [INFO] 17.58 37.0885841203 None\n",
      "2016-02-09 00:00:00 strategy [INFO] 17.26 34.3989651964 None\n",
      "2016-02-10 00:00:00 strategy [INFO] 17.49 37.8855914265 None\n",
      "2016-02-11 00:00:00 strategy [INFO] 17.24 35.6666113233 None\n",
      "2016-02-12 00:00:00 strategy [INFO] 17.35 37.4038687973 41.5331058054\n",
      "2016-02-16 00:00:00 strategy [INFO] 17.879999 45.0968096085 41.7413656873\n",
      "2016-02-17 00:00:00 strategy [INFO] 18.129999 48.3230128723 41.9805172452\n",
      "2016-02-18 00:00:00 strategy [INFO] 18.129999 48.3230128723 42.517869737\n",
      "2016-02-19 00:00:00 strategy [INFO] 18.1 47.9310479482 42.8256303975\n",
      "2016-02-22 00:00:00 strategy [INFO] 18.459999 52.8713901289 43.1275259697\n",
      "2016-02-23 00:00:00 strategy [INFO] 18.01 46.8832636207 43.0018407161\n",
      "2016-02-24 00:00:00 strategy [INFO] 18.09 48.0105863887 43.2040426686\n",
      "2016-02-25 00:00:00 strategy [INFO] 18.030001 47.2014697621 43.4420159948\n",
      "2016-02-26 00:00:00 strategy [INFO] 18.33 51.5941764658 44.0059287409\n",
      "2016-02-29 00:00:00 strategy [INFO] 18.35 51.8815961175 44.7039991099\n",
      "2016-03-01 00:00:00 strategy [INFO] 19.07 60.8857184566 46.2904747323\n",
      "2016-03-02 00:00:00 strategy [INFO] 19.120001 61.4255531089 48.0922472598\n",
      "2016-03-03 00:00:00 strategy [INFO] 19.08 60.7037516173 49.6134579392\n",
      "2016-03-04 00:00:00 strategy [INFO] 19.219999 62.3703745864 51.3937088234\n",
      "2016-03-07 00:00:00 strategy [INFO] 18.889999 56.3081600858 52.6539949093\n",
      "2016-03-08 00:00:00 strategy [INFO] 18.639999 52.1710835484 53.125613172\n",
      "2016-03-09 00:00:00 strategy [INFO] 18.65 52.3219971474 53.3922121237\n",
      "2016-03-10 00:00:00 strategy [INFO] 18.66 52.4834419485 53.6695740621\n",
      "2016-03-11 00:00:00 strategy [INFO] 19.290001 61.3604064076 54.564864626\n",
      "2016-03-14 00:00:00 strategy [INFO] 19.690001 65.7371082062 55.4225791645\n",
      "2016-03-15 00:00:00 strategy [INFO] 19.440001 61.0803805195 56.3690536244\n",
      "2016-03-16 00:00:00 strategy [INFO] 19.57 62.5653867762 57.3393736503\n",
      "2016-03-17 00:00:00 strategy [INFO] 20.360001 70.0453058665 58.8622960572\n",
      "2016-03-18 00:00:00 strategy [INFO] 20.52 71.2962460931 60.1757673657\n",
      "2016-03-21 00:00:00 strategy [INFO] 20.370001 68.4118252475 61.2777826411\n",
      "2016-03-22 00:00:00 strategy [INFO] 20.58 70.2278261273 61.9005898191\n",
      "2016-03-23 00:00:00 strategy [INFO] 20.530001 69.2076517506 62.4193963952\n",
      "2016-03-24 00:00:00 strategy [INFO] 20.290001 64.3736383636 62.6640555116\n",
      "2016-03-28 00:00:00 strategy [INFO] 20.57 67.2478787666 62.989222457\n",
      "2016-03-29 00:00:00 strategy [INFO] 20.559999 67.0398342946 63.7046674042\n",
      "2016-03-30 00:00:00 strategy [INFO] 20.450001 64.6700604463 64.5379325308\n",
      "2016-03-31 00:00:00 strategy [INFO] 20.440001 64.4470235416 65.3462676237\n",
      "2016-04-01 00:00:00 strategy [INFO] 20.559999 65.9639726718 66.2449696719\n",
      "2016-04-04 00:00:00 strategy [INFO] 20.48 64.0033545049 66.4211662117\n",
      "2016-04-05 00:00:00 strategy [INFO] 19.99 53.511958691 65.6061562441\n",
      "2016-04-06 00:00:00 strategy [INFO] 20.67 62.6595643115 65.7114351635\n",
      "2016-04-07 00:00:00 strategy [INFO] 20.620001 61.6982266537 65.6536244887\n",
      "2016-04-08 00:00:00 strategy [INFO] 20.52 59.7245800271 64.9655760994\n",
      "2016-04-11 00:00:00 strategy [INFO] 20.52 59.7245800271 64.194131695\n",
      "2016-04-12 00:00:00 strategy [INFO] 20.77 63.1429734412 63.8428749079\n",
      "2016-04-13 00:00:00 strategy [INFO] 21.370001 69.7737311039 63.8126019064\n",
      "2016-04-14 00:00:00 strategy [INFO] 21.299999 68.2314254104 63.7475201503\n",
      "2016-04-15 00:00:00 strategy [INFO] 21.17 65.3428046214 63.8121312342\n",
      "2016-04-18 00:00:00 strategy [INFO] 21.52 69.1318468912 63.9377291092\n",
      "2016-04-19 00:00:00 strategy [INFO] 21.389999 66.2352468867 63.8840899486\n",
      "2016-04-20 00:00:00 strategy [INFO] 21.08 59.8007408163 63.55946864\n",
      "2016-04-21 00:00:00 strategy [INFO] 20.799999 54.6377338976 62.905515997\n",
      "2016-04-22 00:00:00 strategy [INFO] 20.82 54.9370243207 62.170386107\n",
      "2016-04-25 00:00:00 strategy [INFO] 20.469999 48.8617069305 61.1609429353\n",
      "2016-04-26 00:00:00 strategy [INFO] 20.77 53.5983965558 61.1667054597\n",
      "2016-04-27 00:00:00 strategy [INFO] 20.610001 50.8910173874 60.3821356647\n",
      "2016-04-28 00:00:00 strategy [INFO] 20.6 50.7185626754 59.6501580662\n",
      "2016-04-29 00:00:00 strategy [INFO] 20.299999 45.7141975257 58.7161325661\n",
      "2016-05-02 00:00:00 strategy [INFO] 20.360001 46.8438969205 57.857420359\n",
      "2016-05-03 00:00:00 strategy [INFO] 19.74 38.0358255083 56.1836104968\n",
      "2016-05-04 00:00:00 strategy [INFO] 19.59 36.2594585846 53.9493256622\n",
      "2016-05-05 00:00:00 strategy [INFO] 19.610001 36.6840761091 51.8461690421\n",
      "2016-05-06 00:00:00 strategy [INFO] 19.870001 42.0851307134 50.2956574482\n",
      "2016-05-09 00:00:00 strategy [INFO] 19.75 40.3733179426 48.378422185\n",
      "2016-05-10 00:00:00 strategy [INFO] 20.120001 47.4683065 47.1272928259\n",
      "2016-05-11 00:00:00 strategy [INFO] 20.08 46.8196837668 46.2618890226\n",
      "2016-05-12 00:00:00 strategy [INFO] 19.809999 42.5894030439 45.4586669656\n",
      "2016-05-13 00:00:00 strategy [INFO] 19.809999 42.5894030439 44.6354922139\n",
      "2016-05-16 00:00:00 strategy [INFO] 20.67 56.9560589588 45.1751156824\n",
      "2016-05-17 00:00:00 strategy [INFO] 20.799999 58.6409056404 45.5112829547\n",
      "2016-05-18 00:00:00 strategy [INFO] 20.25 49.7655851308 45.4362541376\n",
      "2016-05-19 00:00:00 strategy [INFO] 20.0 46.3328876097 45.1438757999\n",
      "2016-05-20 00:00:00 strategy [INFO] 20.42 52.2872447882 45.5820789507\n",
      "2016-05-23 00:00:00 strategy [INFO] 20.5 53.3489727274 46.0157506712\n",
      "2016-05-24 00:00:00 strategy [INFO] 20.98 59.2134777141 47.4275941516\n",
      "2016-05-25 00:00:00 strategy [INFO] 21.25 62.0996396687 49.1502728905\n",
      "2016-05-26 00:00:00 strategy [INFO] 21.129999 60.0652547439 50.7090181328\n",
      "2016-05-27 00:00:00 strategy [INFO] 22.0 68.1992062512 52.449956502\n",
      "2016-05-31 00:00:00 strategy [INFO] 22.299999 70.4353903187 54.4540946604\n",
      "2016-06-01 00:00:00 strategy [INFO] 21.9 63.9757443265 55.5545905155\n",
      "2016-06-02 00:00:00 strategy [INFO] 21.92 64.1527671254 56.7101294061\n",
      "2016-06-03 00:00:00 strategy [INFO] 22.08 65.6087517738 58.2447526548\n",
      "2016-06-06 00:00:00 strategy [INFO] 22.540001 69.4504987618 60.0354923693\n",
      "2016-06-07 00:00:00 strategy [INFO] 22.799999 71.3954631577 60.9981193159\n",
      "2016-06-08 00:00:00 strategy [INFO] 22.66 68.8534779244 61.6789574681\n",
      "2016-06-09 00:00:00 strategy [INFO] 22.540001 66.6625811783 62.8054238713\n",
      "2016-06-10 00:00:00 strategy [INFO] 22.34 63.0609772732 63.9206298489\n",
      "2016-06-13 00:00:00 strategy [INFO] 21.65 52.5188018302 63.936066985\n",
      "2016-06-14 00:00:00 strategy [INFO] 21.5 50.5407482048 63.7488520168\n",
      "2016-06-15 00:00:00 strategy [INFO] 22.129999 57.7399810984 63.6506189091\n",
      "2016-06-16 00:00:00 strategy [INFO] 21.98 55.6625115518 63.2214770347\n",
      "2016-06-17 00:00:00 strategy [INFO] 21.74 52.4130949476 62.7113330483\n",
      "2016-06-20 00:00:00 strategy [INFO] 22.02 55.6648808928 61.8757113577\n",
      "2016-06-21 00:00:00 strategy [INFO] 22.219999 57.8789353834 61.038614362\n",
      "2016-06-22 00:00:00 strategy [INFO] 22.690001 62.6051050489 60.9472384102\n",
      "2016-06-23 00:00:00 strategy [INFO] 23.09 66.0921249498 61.0765289318\n",
      "2016-06-24 00:00:00 strategy [INFO] 22.16 53.5818106656 60.2747328579\n",
      "2016-06-27 00:00:00 strategy [INFO] 21.52 46.9899875677 58.777365445\n",
      "2016-06-28 00:00:00 strategy [INFO] 22.15 53.105779958 57.5580532317\n",
      "2016-06-29 00:00:00 strategy [INFO] 22.450001 55.7252747494 56.6828396867\n",
      "2016-06-30 00:00:00 strategy [INFO] 22.969999 59.9059096455 56.2323949178\n",
      "2016-07-01 00:00:00 strategy [INFO] 22.98 59.9841705076 56.0272744668\n"
     ]
    }
   ],
   "source": [
    "# Load the yahoo feed from the CSV file\n",
    "feed = yahoofeed.Feed()\n",
    "feed.addBarsFromCSV(\"tcehy\", \"tcehy-2016.csv\")\n",
    "\n",
    "# Evaluate the strategy with the feed's bars.\n",
    "myStrategy = MyStrategy(feed, \"tcehy\")\n",
    "myStrategy.run()"
   ]
  },
  {
   "cell_type": "code",
   "execution_count": 17,
   "metadata": {
    "collapsed": true
   },
   "outputs": [],
   "source": [
    "from pyalgotrade import strategy\n",
    "from pyalgotrade.barfeed import yahoofeed\n",
    "from pyalgotrade.technical import ma\n",
    "\n",
    "\n",
    "class MyStrategy(strategy.BacktestingStrategy):\n",
    "    def __init__(self, feed, instrument, smaPeriod):\n",
    "        strategy.BacktestingStrategy.__init__(self, feed, 1000)\n",
    "        self.__position = None\n",
    "        self.__instrument = instrument\n",
    "        # We'll use adjusted close values instead of regular close values.\n",
    "        self.setUseAdjustedValues(True)\n",
    "        self.__sma = ma.SMA(feed[instrument].getPriceDataSeries(), smaPeriod)\n",
    "\n",
    "    def onEnterOk(self, position):\n",
    "        execInfo = position.getEntryOrder().getExecutionInfo()\n",
    "        self.info(\"BUY at $%.2f\" % (execInfo.getPrice()))\n",
    "\n",
    "    def onEnterCanceled(self, position):\n",
    "        self.__position = None\n",
    "\n",
    "    def onExitOk(self, position):\n",
    "        execInfo = position.getExitOrder().getExecutionInfo()\n",
    "        self.info(\"SELL at $%.2f\" % (execInfo.getPrice()))\n",
    "        self.__position = None\n",
    "\n",
    "    def onExitCanceled(self, position):\n",
    "        # If the exit was canceled, re-submit it.\n",
    "        self.__position.exitMarket()\n",
    "\n",
    "    def onBars(self, bars):\n",
    "        # Wait for enough bars to be available to calculate a SMA.\n",
    "        if self.__sma[-1] is None:\n",
    "            return\n",
    "\n",
    "        bar = bars[self.__instrument]\n",
    "        # If a position was not opened, check if we should enter a long position.\n",
    "        if self.__position is None:\n",
    "            if bar.getPrice() > self.__sma[-1]:\n",
    "                # Enter a buy market order for 10 shares. The order is good till canceled.\n",
    "                self.__position = self.enterLong(self.__instrument, 10, True)\n",
    "        # Check if we have to exit the position.\n",
    "        elif bar.getPrice() < self.__sma[-1] and not self.__position.exitActive():\n",
    "            self.__position.exitMarket()"
   ]
  },
  {
   "cell_type": "code",
   "execution_count": 19,
   "metadata": {
    "collapsed": false
   },
   "outputs": [
    {
     "name": "stderr",
     "output_type": "stream",
     "text": [
      "2016-01-26 00:00:00 strategy [INFO] BUY at $18.09\n",
      "2016-02-08 00:00:00 strategy [INFO] SELL at $17.83\n",
      "2016-02-18 00:00:00 strategy [INFO] BUY at $18.15\n",
      "2016-04-06 00:00:00 strategy [INFO] SELL at $20.30\n",
      "2016-04-07 00:00:00 strategy [INFO] BUY at $20.73\n",
      "2016-04-22 00:00:00 strategy [INFO] SELL at $20.64\n",
      "2016-05-17 00:00:00 strategy [INFO] BUY at $20.66\n",
      "2016-06-14 00:00:00 strategy [INFO] SELL at $21.62\n",
      "2016-06-16 00:00:00 strategy [INFO] BUY at $21.80\n",
      "2016-06-17 00:00:00 strategy [INFO] SELL at $21.81\n",
      "2016-06-22 00:00:00 strategy [INFO] BUY at $22.87\n",
      "2016-06-27 00:00:00 strategy [INFO] SELL at $21.74\n",
      "2016-06-30 00:00:00 strategy [INFO] BUY at $22.65\n"
     ]
    },
    {
     "name": "stdout",
     "output_type": "stream",
     "text": [
      "Final portfolio value: $1019.75\n"
     ]
    }
   ],
   "source": [
    "def run_strategy(smaPeriod):\n",
    "    # Load the yahoo feed from the CSV file\n",
    "    feed = yahoofeed.Feed()\n",
    "    feed.addBarsFromCSV(\"tcehy\", \"tcehy-2016.csv\")\n",
    "\n",
    "    # Evaluate the strategy with the feed.\n",
    "    myStrategy = MyStrategy(feed, \"tcehy\", smaPeriod)\n",
    "    myStrategy.run()\n",
    "    print \"Final portfolio value: $%.2f\" % myStrategy.getBroker().getEquity()\n",
    "\n",
    "run_strategy(15)"
   ]
  },
  {
   "cell_type": "code",
   "execution_count": 14,
   "metadata": {
    "collapsed": true
   },
   "outputs": [],
   "source": [
    "from pyalgotrade import strategy\n",
    "from pyalgotrade.technical import ma\n",
    "from pyalgotrade.technical import cross\n",
    "\n",
    "\n",
    "class SMACrossOver(strategy.BacktestingStrategy):\n",
    "    def __init__(self, feed, instrument, smaPeriod):\n",
    "        strategy.BacktestingStrategy.__init__(self, feed)\n",
    "        self.__instrument = instrument\n",
    "        self.__position = None\n",
    "        # We'll use adjusted close values instead of regular close values.\n",
    "        self.setUseAdjustedValues(True)\n",
    "        self.__prices = feed[instrument].getPriceDataSeries()\n",
    "        self.__sma = ma.SMA(self.__prices, smaPeriod)\n",
    "\n",
    "    def getSMA(self):\n",
    "        return self.__sma\n",
    "\n",
    "    def onEnterCanceled(self, position):\n",
    "        self.__position = None\n",
    "\n",
    "    def onExitOk(self, position):\n",
    "        self.__position = None\n",
    "\n",
    "    def onExitCanceled(self, position):\n",
    "        # If the exit was canceled, re-submit it.\n",
    "        self.__position.exitMarket()\n",
    "\n",
    "    def onBars(self, bars):\n",
    "        # If a position was not opened, check if we should enter a long position.\n",
    "        if self.__position is None:\n",
    "            if cross.cross_above(self.__prices, self.__sma) > 0:\n",
    "                shares = int(self.getBroker().getCash() * 0.9 / bars[self.__instrument].getPrice())\n",
    "                # Enter a buy market order. The order is good till canceled.\n",
    "                self.__position = self.enterLong(self.__instrument, shares, True)\n",
    "        # Check if we have to exit the position.\n",
    "        elif not self.__position.exitActive() and cross.cross_below(self.__prices, self.__sma) > 0:\n",
    "            self.__position.exitMarket()"
   ]
  },
  {
   "cell_type": "code",
   "execution_count": null,
   "metadata": {
    "collapsed": false
   },
   "outputs": [
    {
     "name": "stderr",
     "output_type": "stream",
     "text": [
      "2016-07-01 00:00:00 strategy [INFO] Final portfolio value: $1209441.71\n"
     ]
    }
   ],
   "source": [
    "from pyalgotrade import plotter\n",
    "from pyalgotrade.barfeed import yahoofeed\n",
    "from pyalgotrade.stratanalyzer import returns\n",
    "\n",
    "# Load the yahoo feed from the CSV file\n",
    "feed = yahoofeed.Feed()\n",
    "feed.addBarsFromCSV(\"tcehy\", \"tcehy-2016.csv\")\n",
    "\n",
    "# Evaluate the strategy with the feed's bars.\n",
    "myStrategy = SMACrossOver(feed, \"tcehy\", 20)\n",
    "\n",
    "# Attach a returns analyzers to the strategy.\n",
    "returnsAnalyzer = returns.Returns()\n",
    "myStrategy.attachAnalyzer(returnsAnalyzer)\n",
    "\n",
    "# Attach the plotter to the strategy.\n",
    "plt = plotter.StrategyPlotter(myStrategy)\n",
    "# Include the SMA in the instrument's subplot to get it displayed along with the closing prices.\n",
    "plt.getInstrumentSubplot(\"tcehy\").addDataSeries(\"SMA\", myStrategy.getSMA())\n",
    "# Plot the simple returns on each bar.\n",
    "plt.getOrCreateSubplot(\"returns\").addDataSeries(\"Simple returns\", returnsAnalyzer.getReturns())\n",
    "\n",
    "# Run the strategy.\n",
    "myStrategy.run()\n",
    "myStrategy.info(\"Final portfolio value: $%.2f\" % myStrategy.getResult())\n",
    "\n",
    "# Plot the strategy.\n",
    "plt.plot()"
   ]
  },
  {
   "cell_type": "code",
   "execution_count": null,
   "metadata": {
    "collapsed": true
   },
   "outputs": [],
   "source": []
  }
 ],
 "metadata": {
  "kernelspec": {
   "display_name": "Python 2",
   "language": "python",
   "name": "python2"
  },
  "language_info": {
   "codemirror_mode": {
    "name": "ipython",
    "version": 2
   },
   "file_extension": ".py",
   "mimetype": "text/x-python",
   "name": "python",
   "nbconvert_exporter": "python",
   "pygments_lexer": "ipython2",
   "version": "2.7.11"
  }
 },
 "nbformat": 4,
 "nbformat_minor": 0
}
